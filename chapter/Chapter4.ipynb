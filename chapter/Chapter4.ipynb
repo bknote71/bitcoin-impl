{
 "cells": [
  {
   "cell_type": "code",
   "execution_count": 1,
   "metadata": {},
   "outputs": [],
   "source": [
    "import sys\n",
    "\n",
    "sys.path.append(\"/Users/bknote71/Repository/bitcoin-impl\")"
   ]
  },
  {
   "cell_type": "code",
   "execution_count": 2,
   "metadata": {},
   "outputs": [
    {
     "name": "stdout",
     "output_type": "stream",
     "text": [
      "mjvSgwYSj96vu8PTi6qk1rtPn5XMVGQbFk\n",
      "34\n"
     ]
    }
   ],
   "source": [
    "# Exercise5\n",
    "# 아래의 비밀키에 대응하는 공개키를 구하고 이로부터 비트코인 주소를 구하시오.\n",
    "# 5002 (testnet 비압축 SEC 형식)\n",
    "\n",
    "from app.signature import PrivateKey\n",
    "\n",
    "\n",
    "p = PrivateKey(5002)\n",
    "addr = p.point.address(compressed=False, testnet=True)\n",
    "print(addr)\n",
    "print(len(addr))"
   ]
  }
 ],
 "metadata": {
  "kernelspec": {
   "display_name": "venv",
   "language": "python",
   "name": "python3"
  },
  "language_info": {
   "codemirror_mode": {
    "name": "ipython",
    "version": 3
   },
   "file_extension": ".py",
   "mimetype": "text/x-python",
   "name": "python",
   "nbconvert_exporter": "python",
   "pygments_lexer": "ipython3",
   "version": "3.12.4"
  }
 },
 "nbformat": 4,
 "nbformat_minor": 2
}
