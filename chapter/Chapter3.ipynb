{
 "cells": [
  {
   "cell_type": "code",
   "execution_count": 1,
   "metadata": {},
   "outputs": [],
   "source": [
    "import sys\n",
    "sys.path.append(\"/Users/bknote71/Repository/bitcoin-impl\")"
   ]
  },
  {
   "cell_type": "code",
   "execution_count": 2,
   "metadata": {},
   "outputs": [],
   "source": [
    "# 유한체에서 정의된 타원곡선\n",
    "# 모든 타원곡선 (+, -, *, / 를 이용한) 방정식은 유한체에서도 유효하다.\n",
    "# 유한체에서 연산자를 지원한다면 x, y를 유한체로 바꿔도 성립한다는 의미\n",
    "\n",
    "from importlib import reload\n",
    "from app.helper import run\n",
    "from app.point import Point\n",
    "from app.fieldelement import FieldElement"
   ]
  },
  {
   "cell_type": "code",
   "execution_count": 3,
   "metadata": {},
   "outputs": [
    {
     "name": "stdout",
     "output_type": "stream",
     "text": [
      "FieldELement_223(192), FieldELement_223(105) is on the curve? True\n",
      "FieldELement_223(17), FieldELement_223(56) is on the curve? True\n",
      "FieldELement_223(200), FieldELement_223(119) is on the curve? False\n",
      "FieldELement_223(1), FieldELement_223(193) is on the curve? True\n",
      "FieldELement_223(42), FieldELement_223(99) is on the curve? False\n"
     ]
    }
   ],
   "source": [
    "prime = 223\n",
    "a = FieldElement(0, prime)\n",
    "b = FieldElement(7, prime)\n",
    "\n",
    "for x, y in [(192, 105), (17, 56), (200, 119), (1, 193), (42, 99)]:\n",
    "    x = FieldElement(x, prime)\n",
    "    y = FieldElement(y, prime)\n",
    "    print(f\"{x}, {y} is on the curve? {y ** 2 == x ** 3 + a * x + b}\")"
   ]
  },
  {
   "cell_type": "code",
   "execution_count": 4,
   "metadata": {},
   "outputs": [
    {
     "name": "stdout",
     "output_type": "stream",
     "text": [
      "Point(FieldELement_223(192),FieldELement_223(105))_FieldELement_223(0)_FieldELement_223(7)\n"
     ]
    }
   ],
   "source": [
    "a = FieldElement(num=0, prime=223)\n",
    "b = FieldElement(num=7, prime=223)\n",
    "x = FieldElement(num=192, prime=223)\n",
    "y = FieldElement(num=105, prime=223)\n",
    "p1 = Point(x, y, a, b)\n",
    "print(p1)"
   ]
  },
  {
   "cell_type": "code",
   "execution_count": 5,
   "metadata": {},
   "outputs": [
    {
     "name": "stdout",
     "output_type": "stream",
     "text": [
      "(19635924277356798752105674083697999930996555344818160161847497917044432760610, 13449928304528854552621297743528922715969746175462178470032064141974217735194)\n"
     ]
    }
   ],
   "source": [
    "from app.helper import hash256\n",
    "from app.sha256 import G, N, S256Field, S256Point\n",
    "\n",
    "# Exercise 7\n",
    "# 비밀키 e로 메시지 z의 서명(r, s)을 구하시오.\n",
    "e = 12345\n",
    "z = int.from_bytes(hash256(b\"Programming Bitcoin!\"), \"big\")\n",
    "\n",
    "# print(G + G)\n",
    "\n",
    "k = 1234567890 # k는 임의의 값\n",
    "t: S256Point = (k * G)\n",
    "r = t.x.num # G?\n",
    "k_inv = pow(k, N - 2, N)\n",
    "s = (z + r * e) * k_inv % N\n",
    "print(f\"({r}, {s})\")"
   ]
  }
 ],
 "metadata": {
  "kernelspec": {
   "display_name": "venv",
   "language": "python",
   "name": "python3"
  },
  "language_info": {
   "codemirror_mode": {
    "name": "ipython",
    "version": 3
   },
   "file_extension": ".py",
   "mimetype": "text/x-python",
   "name": "python",
   "nbconvert_exporter": "python",
   "pygments_lexer": "ipython3",
   "version": "3.12.4"
  }
 },
 "nbformat": 4,
 "nbformat_minor": 2
}
