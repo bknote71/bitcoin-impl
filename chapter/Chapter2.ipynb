{
 "cells": [
  {
   "cell_type": "code",
   "execution_count": 1,
   "metadata": {},
   "outputs": [],
   "source": [
    "import sys\n",
    "sys.path.append(\"/Users/bknote71/Repository/bitcoin-impl\")"
   ]
  },
  {
   "cell_type": "code",
   "execution_count": 2,
   "metadata": {},
   "outputs": [],
   "source": [
    "from app.point import Point\n",
    "\n",
    "p1 = Point(-1, -1, 5, 7)\n",
    "# p2 = Point(-1, -2, 5, 7)"
   ]
  },
  {
   "cell_type": "code",
   "execution_count": 3,
   "metadata": {},
   "outputs": [
    {
     "name": "stdout",
     "output_type": "stream",
     "text": [
      "Point: -1, -1 is on the curve\n",
      "Point: 18, 77 is on the curve\n"
     ]
    }
   ],
   "source": [
    "# Exercise 1\n",
    "# Determine which of these points are on the curve y^2 = x^3 + 5x + 7\n",
    "# (2, 4), (-1, -1), (18, 77), (5, 7)\n",
    "for x, y in [(2, 4), (-1, -1), (18, 77), (5, 7)]:\n",
    "    if y**2 == x**3 +5 * x + 7:\n",
    "        print(f\"Point: {x}, {y} is on the curve\")"
   ]
  },
  {
   "cell_type": "code",
   "execution_count": 4,
   "metadata": {},
   "outputs": [
    {
     "name": "stderr",
     "output_type": "stream",
     "text": [
      ".\n",
      "----------------------------------------------------------------------\n",
      "Ran 1 test in 0.001s\n",
      "\n",
      "OK\n"
     ]
    }
   ],
   "source": [
    "# Exercise 2\n",
    "# __ne__ (!=)\n",
    "from importlib import reload\n",
    "from app.helper import run\n",
    "from app import point\n",
    "\n",
    "reload(point)\n",
    "run(point.PointTest(\"test_ne\"))"
   ]
  },
  {
   "cell_type": "code",
   "execution_count": 5,
   "metadata": {},
   "outputs": [],
   "source": [
    "# 같은 인스턴스인지 체크\n",
    "from app.point import Point\n",
    "\n",
    "p1 = Point(-1, -1, 5, 7)\n",
    "p2 = Point(-1, -1, 5, 7)\n"
   ]
  },
  {
   "cell_type": "code",
   "execution_count": 6,
   "metadata": {},
   "outputs": [
    {
     "name": "stdout",
     "output_type": "stream",
     "text": [
      "Point(-1,-1)_5_7\n",
      "Point(-1,-1)_5_7\n",
      "Point(18.0,77.0)_5_7\n"
     ]
    }
   ],
   "source": [
    "p1 = Point(-1, -1, 5, 7)\n",
    "p2 = Point(-1, 1, 5, 7)\n",
    "# 항등원 I( == 0) (a, b는 동일해야 됨. 그래야 더해짐)\n",
    "inf = Point(None, None, 5, 7)\n",
    "# print(type(inf))\n",
    "\n",
    "print(p1 + inf)\n",
    "print(inf + p2)\n",
    "print(p1 + p2)\n"
   ]
  }
 ],
 "metadata": {
  "kernelspec": {
   "display_name": "venv",
   "language": "python",
   "name": "python3"
  },
  "language_info": {
   "codemirror_mode": {
    "name": "ipython",
    "version": 3
   },
   "file_extension": ".py",
   "mimetype": "text/x-python",
   "name": "python",
   "nbconvert_exporter": "python",
   "pygments_lexer": "ipython3",
   "version": "3.12.4"
  }
 },
 "nbformat": 4,
 "nbformat_minor": 2
}
