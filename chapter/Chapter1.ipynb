{
 "cells": [
  {
   "cell_type": "code",
   "execution_count": 1,
   "metadata": {},
   "outputs": [
    {
     "name": "stdout",
     "output_type": "stream",
     "text": [
      "['/opt/homebrew/Cellar/python@3.12/3.12.4/Frameworks/Python.framework/Versions/3.12/lib/python312.zip', '/opt/homebrew/Cellar/python@3.12/3.12.4/Frameworks/Python.framework/Versions/3.12/lib/python3.12', '/opt/homebrew/Cellar/python@3.12/3.12.4/Frameworks/Python.framework/Versions/3.12/lib/python3.12/lib-dynload', '', '/Users/bknote71/Repository/bitcoin-impl/venv/lib/python3.12/site-packages', '/Users/bknote71/Repository/bitcoin-impl']\n"
     ]
    }
   ],
   "source": [
    "# 초반 세팅\n",
    "import sys\n",
    "sys.path.append(\"/Users/bknote71/Repository/bitcoin-impl\")\n",
    "\n",
    "print(sys.path)"
   ]
  },
  {
   "cell_type": "code",
   "execution_count": 2,
   "metadata": {},
   "outputs": [
    {
     "name": "stdout",
     "output_type": "stream",
     "text": [
      "False\n",
      "True\n"
     ]
    }
   ],
   "source": [
    "from app.fieldelement import FieldElement\n",
    "\n",
    "a = FieldElement(7, 13)\n",
    "b = FieldElement(6, 13)\n",
    "\n",
    "print(a == b)\n",
    "print(a == a)\n"
   ]
  },
  {
   "cell_type": "code",
   "execution_count": 3,
   "metadata": {},
   "outputs": [
    {
     "name": "stdout",
     "output_type": "stream",
     "text": [
      "True\n",
      "True\n",
      "True\n",
      "True\n"
     ]
    }
   ],
   "source": [
    "from app.fieldelement import FieldElement\n",
    "\n",
    "a = FieldElement(7, 13)\n",
    "b = FieldElement(12, 13)\n",
    "c = FieldElement(6, 13)\n",
    "\n",
    "print(a+b == c)\n",
    "\n",
    "a = FieldElement(3, 13)\n",
    "b = FieldElement(2, 13)\n",
    "c = FieldElement(1, 13)\n",
    "\n",
    "print(a-b == c)\n",
    "\n",
    "a = FieldElement(3, 13)\n",
    "b = FieldElement(12, 13)\n",
    "c = FieldElement(10, 13)\n",
    "\n",
    "print(a * b == c)\n",
    "\n",
    "a = FieldElement(3, 13)\n",
    "b = FieldElement(1, 13)\n",
    "\n",
    "print(a ** 3 == b)"
   ]
  },
  {
   "cell_type": "code",
   "execution_count": 4,
   "metadata": {},
   "outputs": [
    {
     "name": "stderr",
     "output_type": "stream",
     "text": [
      "......\n",
      "----------------------------------------------------------------------\n",
      "Ran 6 tests in 0.002s\n",
      "\n",
      "OK\n"
     ]
    },
    {
     "data": {
      "text/plain": [
       "<unittest.runner.TextTestResult run=6 errors=0 failures=0>"
      ]
     },
     "execution_count": 4,
     "metadata": {},
     "output_type": "execute_result"
    }
   ],
   "source": [
    "from app.fieldelement import FieldElementTest\n",
    "\n",
    "# unittest 실행\n",
    "import unittest\n",
    "\n",
    "\n",
    "suite = unittest.TestLoader().loadTestsFromTestCase(FieldElementTest)\n",
    "unittest.TextTestRunner().run(suite)"
   ]
  }
 ],
 "metadata": {
  "kernelspec": {
   "display_name": "venv",
   "language": "python",
   "name": "python3"
  },
  "language_info": {
   "codemirror_mode": {
    "name": "ipython",
    "version": 3
   },
   "file_extension": ".py",
   "mimetype": "text/x-python",
   "name": "python",
   "nbconvert_exporter": "python",
   "pygments_lexer": "ipython3",
   "version": "3.12.4"
  }
 },
 "nbformat": 4,
 "nbformat_minor": 2
}
